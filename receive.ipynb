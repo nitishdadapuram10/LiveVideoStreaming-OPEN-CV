{
 "cells": [
  {
   "cell_type": "code",
   "execution_count": null,
   "metadata": {},
   "outputs": [],
   "source": [
    "import socket\n",
    "import threading\n",
    "import pickle\n",
    "import cv2\n",
    "import numpy\n",
    "import struct\n",
    "\n"
   ]
  },
  {
   "cell_type": "code",
   "execution_count": null,
   "metadata": {},
   "outputs": [],
   "source": [
    "s = socket.socket()\n",
    "s.setsockopt(socket.SOL_SOCKET, socket.SO_REUSEADDR, 1)\n",
    "s.bind(('',3333))\n",
    "s.listen()\n",
    "\n",
    "session , addr = s.accept()"
   ]
  },
  {
   "cell_type": "code",
   "execution_count": null,
   "metadata": {},
   "outputs": [],
   "source": [
    "cap=cv2.VideoCapture(1) # 1 based on your camera\n",
    "def send():    \n",
    "    while True:\n",
    "        ret , photo2 = cap.read() \n",
    "        image2 = pickle.dumps(photo2)        \n",
    "        img_size2 = struct.pack(\"L\", len(image2)) \n",
    "        session.sendall(img_size2 + image2)\n",
    "    cv2.destroyAllWindows()\n",
    "    cap.release()\n",
    "    \n",
    "t1=threading.Thread(target=send)\n",
    "t1.start()\n",
    "\n",
    "size_of_msg=struct.calcsize(\"L\")\n",
    "data=b''\n",
    "\n",
    "while True:\n",
    "    while len(data) < size_of_msg:\n",
    "        data += session.recv(1024)\n",
    "        \n",
    "    true_msg_size = data[:size_of_msg]\n",
    "    data = data[size_of_msg:]\n",
    "    msg_size = struct.unpack(\"L\", true_msg_size)[0]\n",
    "    \n",
    "    while len(data) < msg_size:\n",
    "        data += session.recv(4096)\n",
    "        \n",
    "    image_data = data[:msg_size]\n",
    "    data = data[msg_size:]\n",
    "    image = pickle.loads(image_data)\n",
    "    ret1 , live = cap.read()\n",
    "    frame = cv2.resize(live, (240,240))\n",
    "    image[240:,400:] = frame\n",
    "    cv2.imshow('in receiver file of 0 camera', image)\n",
    "    if cv2.waitKey(1) == 13:\n",
    "        break\n",
    "        \n",
    "cv2.destroyAllWindows()\n",
    "cap.release()\n",
    "    "
   ]
  }
 ],
 "metadata": {
  "kernelspec": {
   "display_name": "Python 3",
   "language": "python",
   "name": "python3"
  },
  "language_info": {
   "codemirror_mode": {
    "name": "ipython",
    "version": 3
   },
   "file_extension": ".py",
   "mimetype": "text/x-python",
   "name": "python",
   "nbconvert_exporter": "python",
   "pygments_lexer": "ipython3",
   "version": "3.7.4"
  }
 },
 "nbformat": 4,
 "nbformat_minor": 2
}
