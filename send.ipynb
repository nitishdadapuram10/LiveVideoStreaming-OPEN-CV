{
 "cells": [
  {
   "cell_type": "code",
   "execution_count": null,
   "metadata": {},
   "outputs": [],
   "source": [
    "import socket\n",
    "import threading\n",
    "import cv2\n",
    "import pickle\n",
    "import struct"
   ]
  },
  {
   "cell_type": "code",
   "execution_count": null,
   "metadata": {},
   "outputs": [],
   "source": [
    "s = socket.socket()\n",
    "s.setsockopt(socket.SOL_SOCKET, socket.SO_REUSEADDR, 1)\n",
    "s.connect(('192.168.99.1',3333)) # Use the ip you want to connect"
   ]
  },
  {
   "cell_type": "code",
   "execution_count": null,
   "metadata": {},
   "outputs": [],
   "source": [
    "cap=cv2.VideoCapture(0) # 0 based on your camera\n",
    "def recv():\n",
    "    size_of_msg=struct.calcsize(\"L\")\n",
    "    data=b''\n",
    "    \n",
    "    while True:      \n",
    "        while len(data) < size_of_msg:\n",
    "            data += s.recv(1024)\n",
    "            \n",
    "        true_msg_size = data[:size_of_msg]\n",
    "        data = data[size_of_msg:]\n",
    "        msg_size = struct.unpack(\"L\", true_msg_size)[0]\n",
    "        \n",
    "        while len(data) < msg_size:\n",
    "            data += s.recv(4096)\n",
    "            \n",
    "        image_data = data[:msg_size]\n",
    "        data = data[msg_size:]\n",
    "        image = pickle.loads(image_data)\n",
    "        ret1 , live1 = cap.read()\n",
    "        frame1 = cv2.resize(live1, (240,240))\n",
    "        image[240:,400:] = frame1\n",
    "        cv2.imshow('in sender file of 1 camera', image)\n",
    "        if cv2.waitKey(1) == 13:\n",
    "            break\n",
    "            \n",
    "    cv2.destroyAllWindows()\n",
    "    cap.release()\n",
    "    \n",
    "t1=threading.Thread(target=recv)\n",
    "t1.start()\n",
    "\n",
    "while True:\n",
    "    ret , photo = cap.read() \n",
    "    image = pickle.dumps(photo)\n",
    "    img_size = struct.pack(\"L\", len(image)) \n",
    "    s.sendall(img_size + image)\n",
    "\n",
    "cv2.destroyAllWindows()\n",
    "cap.release()"
   ]
  }
 ],
 "metadata": {
  "kernelspec": {
   "display_name": "Python 3",
   "language": "python",
   "name": "python3"
  },
  "language_info": {
   "codemirror_mode": {
    "name": "ipython",
    "version": 3
   },
   "file_extension": ".py",
   "mimetype": "text/x-python",
   "name": "python",
   "nbconvert_exporter": "python",
   "pygments_lexer": "ipython3",
   "version": "3.7.4"
  }
 },
 "nbformat": 4,
 "nbformat_minor": 2
}
